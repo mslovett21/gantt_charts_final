{
 "cells": [
  {
   "cell_type": "code",
   "execution_count": 1,
   "id": "alleged-candy",
   "metadata": {},
   "outputs": [],
   "source": [
    "import os\n",
    "import re\n",
    "import glob\n",
    "import random\n",
    "import shutil\n",
    "import numpy as np\n",
    "from os.path import exists"
   ]
  },
  {
   "cell_type": "code",
   "execution_count": 2,
   "id": "regulation-portuguese",
   "metadata": {},
   "outputs": [],
   "source": [
    "random.seed(10)\n",
    "\n",
    "REL_DATA_PATH = '../raw_gantt_chart_data_balanced/output/'\n",
    "data_condition_dir = glob.glob(REL_DATA_PATH + '*')\n",
    "data_condition_dir.sort()\n",
    "pattern = r'\\-\\d{3,}\\S+.csv'"
   ]
  },
  {
   "cell_type": "code",
   "execution_count": 3,
   "id": "developed-jewelry",
   "metadata": {},
   "outputs": [],
   "source": [
    "def delete_files(wf_name, condition_type, num_delete):\n",
    "    print(condition_type)\n",
    "    \n",
    "    type_path = REL_DATA_PATH + condition_type\n",
    "    all_type_files = glob.glob(type_path + '/*')\n",
    "    wf_type_list   = [ x for x in all_type_files if wf_name in x]\n",
    "    random.shuffle(wf_type_list)\n",
    "    files_to_delete = random.sample(wf_type_list, num_delete)\n",
    "    i = 0\n",
    "    \n",
    "    for file in files_to_delete:\n",
    "        if exists(file):\n",
    "            os.remove(file)\n",
    "            i = i+1\n",
    "    print(\"Removed {} out of {}\".format(i,num_delete))\n",
    "    \n",
    "    return"
   ]
  },
  {
   "cell_type": "code",
   "execution_count": 4,
   "id": "improved-lighting",
   "metadata": {},
   "outputs": [],
   "source": [
    "def delete_other_wf_types(condition_type, wf_type_list, num_delete):\n",
    "    \n",
    "    for wf_name in wf_type_list:\n",
    "        files_to_delete_hdd70 = delete_files(wf_name, condition_type, num_delete)\n",
    "        \n",
    "    return"
   ]
  },
  {
   "cell_type": "code",
   "execution_count": 5,
   "id": "sudden-friendly",
   "metadata": {},
   "outputs": [
    {
     "name": "stdout",
     "output_type": "stream",
     "text": [
      "hdd_50\n",
      "Removed 20 out of 20\n",
      "hdd_50\n",
      "Removed 20 out of 20\n",
      "hdd_50\n",
      "Removed 20 out of 20\n",
      "hdd_50\n",
      "Removed 20 out of 20\n",
      "hdd_50\n",
      "Removed 20 out of 20\n",
      "hdd_60\n",
      "Removed 20 out of 20\n",
      "hdd_60\n",
      "Removed 20 out of 20\n",
      "hdd_60\n",
      "Removed 20 out of 20\n",
      "hdd_60\n",
      "Removed 20 out of 20\n",
      "hdd_60\n",
      "Removed 20 out of 20\n",
      "hdd_70\n",
      "Removed 20 out of 20\n",
      "hdd_70\n",
      "Removed 20 out of 20\n",
      "hdd_70\n",
      "Removed 20 out of 20\n",
      "hdd_70\n",
      "Removed 20 out of 20\n",
      "hdd_70\n",
      "Removed 20 out of 20\n",
      "hdd_80\n",
      "Removed 20 out of 20\n",
      "hdd_80\n",
      "Removed 20 out of 20\n",
      "hdd_80\n",
      "Removed 20 out of 20\n",
      "hdd_80\n",
      "Removed 20 out of 20\n",
      "hdd_80\n",
      "Removed 20 out of 20\n",
      "hdd_90\n",
      "Removed 20 out of 20\n",
      "hdd_90\n",
      "Removed 20 out of 20\n",
      "hdd_90\n",
      "Removed 20 out of 20\n",
      "hdd_90\n",
      "Removed 20 out of 20\n",
      "hdd_90\n",
      "Removed 20 out of 20\n",
      "hdd_100\n",
      "Removed 20 out of 20\n",
      "hdd_100\n",
      "Removed 20 out of 20\n",
      "hdd_100\n",
      "Removed 20 out of 20\n",
      "hdd_100\n",
      "Removed 20 out of 20\n",
      "hdd_100\n",
      "Removed 20 out of 20\n"
     ]
    }
   ],
   "source": [
    "wf_type_list   = ['1000genome','nowcast-clustering-16-casa_nowcast-wf','nowcast-clustering-8-casa_nowcast-wf',\n",
    "            'wind-clustering-casa_wind_wf', 'wind-noclustering-casa_wind_wf']\n",
    "\n",
    "hdd_subtypes = ['hdd_50', 'hdd_60', 'hdd_70', 'hdd_80', 'hdd_90', 'hdd_100' ]\n",
    "num_delete   = 15\n",
    "\n",
    "\n",
    "for condition_type in hdd_subtypes:\n",
    "    delete_other_wf_types(condition_type, wf_type_list, num_delete)            "
   ]
  },
  {
   "cell_type": "code",
   "execution_count": 6,
   "id": "approximate-factory",
   "metadata": {},
   "outputs": [],
   "source": [
    "# per subconsitions\n",
    "condition_type = 'hdd_100'\n",
    "num_delete = 50 # 50 + 15 = 65 overall\n",
    "wf_name    = '1000genome'"
   ]
  },
  {
   "cell_type": "code",
   "execution_count": 7,
   "id": "interested-caribbean",
   "metadata": {},
   "outputs": [
    {
     "name": "stdout",
     "output_type": "stream",
     "text": [
      "hdd_100\n",
      "Removed 55 out of 55\n"
     ]
    }
   ],
   "source": [
    "files_to_delete_hdd100= delete_files(wf_name, condition_type, num_delete)"
   ]
  },
  {
   "cell_type": "code",
   "execution_count": 8,
   "id": "derived-vermont",
   "metadata": {},
   "outputs": [],
   "source": [
    "condition_type = 'hdd_50'\n",
    "num_delete = 75 # 75+15 = 90 overall\n",
    "wf_name    = '1000genome'"
   ]
  },
  {
   "cell_type": "code",
   "execution_count": 9,
   "id": "chemical-advance",
   "metadata": {},
   "outputs": [
    {
     "name": "stdout",
     "output_type": "stream",
     "text": [
      "hdd_50\n",
      "Removed 80 out of 80\n"
     ]
    }
   ],
   "source": [
    "files_to_delete_hdd50 = delete_files(wf_name, condition_type, num_delete)"
   ]
  },
  {
   "cell_type": "code",
   "execution_count": null,
   "id": "turned-jurisdiction",
   "metadata": {},
   "outputs": [],
   "source": []
  }
 ],
 "metadata": {
  "kernelspec": {
   "display_name": "gantt_env",
   "language": "python",
   "name": "gantt_env"
  },
  "language_info": {
   "codemirror_mode": {
    "name": "ipython",
    "version": 3
   },
   "file_extension": ".py",
   "mimetype": "text/x-python",
   "name": "python",
   "nbconvert_exporter": "python",
   "pygments_lexer": "ipython3",
   "version": "3.9.6"
  }
 },
 "nbformat": 4,
 "nbformat_minor": 5
}
