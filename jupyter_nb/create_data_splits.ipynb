{
 "cells": [
  {
   "cell_type": "code",
   "execution_count": 21,
   "id": "funded-saudi",
   "metadata": {},
   "outputs": [],
   "source": [
    "import os\n",
    "import glob\n",
    "import random\n",
    "from os.path import exists\n",
    "import pandas as pd\n",
    "from sklearn.model_selection import train_test_split"
   ]
  },
  {
   "cell_type": "code",
   "execution_count": 22,
   "id": "romance-arthur",
   "metadata": {},
   "outputs": [],
   "source": [
    "REL_DATA_PATH = '../raw_gantt_chart_data_balanced/output/'\n",
    "SOURCE_DIR = '../raw_gantt_chart_data_balanced/output/'\n",
    "data_condition_dir = glob.glob(REL_DATA_PATH + '*')\n",
    "data_condition_dir.sort()\n",
    "\n",
    "RANDOM_STATE = random.seed(10)\n",
    "\n",
    "\n",
    "DESTINATION_DIR = \"../split_files/\"\n",
    "if not exists(DESTINATION_DIR):\n",
    "    os.mkdir(DESTINATION_DIR)"
   ]
  },
  {
   "cell_type": "code",
   "execution_count": 23,
   "id": "ecological-concern",
   "metadata": {},
   "outputs": [],
   "source": [
    "wf_type_list   = ['1000genome','nowcast-clustering-16-casa_nowcast-wf','nowcast-clustering-8-casa_nowcast-wf',\n",
    "            'wind-clustering-casa_wind_wf', 'wind-noclustering-casa_wind_wf']\n",
    "\n",
    "all_subtypes = ['hdd_50', 'hdd_60', 'hdd_70', 'hdd_80', 'hdd_90', 'hdd_100','cpu_2', 'cpu_3',\n",
    "                'loss_0.1', 'loss_0.5', 'loss_1', 'loss_3', 'loss_5','normal' ]"
   ]
  },
  {
   "cell_type": "code",
   "execution_count": 24,
   "id": "copyrighted-ordinary",
   "metadata": {},
   "outputs": [],
   "source": [
    "def split_data(wf_type_list, all_subtype, REL_DATA_PATH):\n",
    "    \n",
    "    train_fnames = []\n",
    "    test_fnames  = []\n",
    "    val_fnames   = []\n",
    "    \n",
    "    for wf_name in wf_type_list:\n",
    "        for subtype in all_subtypes:\n",
    "            type_path = REL_DATA_PATH + subtype + '/' + wf_name\n",
    "            all_type_files = glob.glob(type_path + '*')\n",
    "            train, rest = train_test_split(all_type_files, test_size=0.3, random_state=RANDOM_STATE, shuffle=True)\n",
    "            train_fnames = train_fnames + train\n",
    "            val, test = train_test_split(rest, test_size=0.5, random_state=RANDOM_STATE, shuffle=True)\n",
    "            test_fnames = test_fnames + test\n",
    "            val_fnames  = val_fnames + val\n",
    "            \n",
    "    return train_fnames, test_fnames, val_fnames"
   ]
  },
  {
   "cell_type": "code",
   "execution_count": 25,
   "id": "corrected-anger",
   "metadata": {},
   "outputs": [],
   "source": [
    "def save_splits(runs, DESTINATION_DIR, dataset):\n",
    "    \n",
    "    runs_df = pd.DataFrame(runs, columns=[\"path\"])\n",
    "    runs_df[\"label\"] = [row.split('/')[3] for row in  runs_df[\"path\"] ]\n",
    "    runs_df[\"main_label\"] = [row.split('_')[0] for row in  runs_df[\"label\"] ]\n",
    "    runs_df[\"filename\"] = [row.split('/')[-1] for row in  runs_df[\"path\"] ]\n",
    "    runs_df.to_csv(DESTINATION_DIR + dataset + \"_data.csv\", index = False)\n",
    "       \n",
    "    return"
   ]
  },
  {
   "cell_type": "code",
   "execution_count": 26,
   "id": "charitable-potter",
   "metadata": {},
   "outputs": [],
   "source": [
    "train_fnames, test_fnames, val_fnames  = split_data(wf_type_list, all_subtypes, REL_DATA_PATH)"
   ]
  },
  {
   "cell_type": "code",
   "execution_count": 27,
   "id": "chubby-commerce",
   "metadata": {},
   "outputs": [
    {
     "name": "stdout",
     "output_type": "stream",
     "text": [
      "3921\n",
      "858\n",
      "841\n"
     ]
    }
   ],
   "source": [
    "print(len(train_fnames))\n",
    "print(len(test_fnames))\n",
    "print(len(val_fnames)) "
   ]
  },
  {
   "cell_type": "code",
   "execution_count": 28,
   "id": "thick-brake",
   "metadata": {},
   "outputs": [],
   "source": [
    "save_splits(train_fnames, DESTINATION_DIR, \"train\")\n",
    "save_splits(val_fnames, DESTINATION_DIR, \"validation\")\n",
    "save_splits(test_fnames, DESTINATION_DIR, \"test\")"
   ]
  },
  {
   "cell_type": "code",
   "execution_count": null,
   "id": "complete-powder",
   "metadata": {},
   "outputs": [],
   "source": []
  }
 ],
 "metadata": {
  "kernelspec": {
   "display_name": "gantt_env",
   "language": "python",
   "name": "gantt_env"
  },
  "language_info": {
   "codemirror_mode": {
    "name": "ipython",
    "version": 3
   },
   "file_extension": ".py",
   "mimetype": "text/x-python",
   "name": "python",
   "nbconvert_exporter": "python",
   "pygments_lexer": "ipython3",
   "version": "3.9.6"
  }
 },
 "nbformat": 4,
 "nbformat_minor": 5
}
