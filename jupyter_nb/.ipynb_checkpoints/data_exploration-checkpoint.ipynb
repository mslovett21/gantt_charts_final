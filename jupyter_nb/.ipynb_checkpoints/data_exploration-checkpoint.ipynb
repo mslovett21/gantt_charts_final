{
 "cells": [
  {
   "cell_type": "code",
   "execution_count": 23,
   "id": "acoustic-cameroon",
   "metadata": {},
   "outputs": [],
   "source": [
    "import re\n",
    "import glob\n",
    "from collections import Counter"
   ]
  },
  {
   "cell_type": "code",
   "execution_count": 5,
   "id": "dried-secretary",
   "metadata": {},
   "outputs": [],
   "source": [
    "REL_DATA_PATH = '../raw_gantt_chart_data/output/'\n",
    "data_condition_dir = glob.glob(REL_DATA_PATH + '*')\n",
    "\n",
    "pattern = r'\\-\\d{3,}\\S+.csv'"
   ]
  },
  {
   "cell_type": "code",
   "execution_count": 7,
   "id": "fatal-austria",
   "metadata": {},
   "outputs": [],
   "source": [
    "for data_dir in data_condition_dir:\n",
    "    condition_type = data_dir.split('/')[-1]\n",
    "    wf_type_list = [re.sub(pattern, '', x.split('/')[-1]) for x in glob.glob(data_dir + '/*')]"
   ]
  },
  {
   "cell_type": "code",
   "execution_count": 27,
   "id": "technological-abortion",
   "metadata": {},
   "outputs": [],
   "source": [
    "wf_counts = Counter(wf_type_list)"
   ]
  },
  {
   "cell_type": "code",
   "execution_count": 29,
   "id": "driven-killer",
   "metadata": {},
   "outputs": [
    {
     "data": {
      "text/plain": [
       "Counter({'nowcast-clustering-8-casa_nowcast-wf': 60,\n",
       "         'nowcast-clustering-16-casa_nowcast-wf': 60,\n",
       "         '1000genome': 50,\n",
       "         'wind-noclustering-casa_wind_wf': 60,\n",
       "         'wind-clustering-casa_wind_wf': 60})"
      ]
     },
     "execution_count": 29,
     "metadata": {},
     "output_type": "execute_result"
    }
   ],
   "source": [
    "wf_counts"
   ]
  },
  {
   "cell_type": "code",
   "execution_count": null,
   "id": "occasional-growing",
   "metadata": {},
   "outputs": [],
   "source": []
  }
 ],
 "metadata": {
  "kernelspec": {
   "display_name": "gantt_env",
   "language": "python",
   "name": "gantt_env"
  },
  "language_info": {
   "codemirror_mode": {
    "name": "ipython",
    "version": 3
   },
   "file_extension": ".py",
   "mimetype": "text/x-python",
   "name": "python",
   "nbconvert_exporter": "python",
   "pygments_lexer": "ipython3",
   "version": "3.9.6"
  }
 },
 "nbformat": 4,
 "nbformat_minor": 5
}
